{
  "nbformat": 4,
  "nbformat_minor": 0,
  "metadata": {
    "colab": {
      "provenance": []
    },
    "kernelspec": {
      "name": "python3",
      "display_name": "Python 3"
    },
    "language_info": {
      "name": "python"
    }
  },
  "cells": [
    {
      "cell_type": "code",
      "execution_count": null,
      "metadata": {
        "id": "nSss5_oF4JEE"
      },
      "outputs": [],
      "source": [
        "# Importing Packages\n",
        "import pandas as pd\n",
        "import geopandas as gpd"
      ]
    },
    {
      "cell_type": "code",
      "source": [
        "# Read Crime Data\n",
        "crime_data = pd.read_csv(\"CrimesOnWomenData.csv\")"
      ],
      "metadata": {
        "id": "T3ExqI3P4h1L"
      },
      "execution_count": null,
      "outputs": []
    },
    {
      "cell_type": "code",
      "source": [
        "# Read Spatial Data\n",
        "geo_data = gpd.read_file(\"IND_adm3.json\")"
      ],
      "metadata": {
        "id": "Ts86IauO4kAD"
      },
      "execution_count": null,
      "outputs": []
    },
    {
      "cell_type": "code",
      "source": [
        "# Drop unnecessary column\n",
        "if 'Unnamed: 0' in crime_data.columns:\n",
        "    crime_data = crime_data.drop(columns=['Unnamed: 0'])\n",
        "\n",
        "# Standardize column names\n",
        "crime_data.rename(columns={'State': 'NAME_1'}, inplace=True)\n",
        "\n",
        "# Clean state names\n",
        "crime_data['NAME_1'] = crime_data['NAME_1'].str.upper().str.strip()\n",
        "geo_data['NAME_1'] = geo_data['NAME_1'].str.upper().str.strip()\n",
        "\n",
        "# Standardize state names\n",
        "geo_data['NAME_1'] = geo_data['NAME_1'].replace({\n",
        "    'ANDAMAN AND NICOBAR': 'ANDAMAN & NICOBAR ISLANDS',\n",
        "    'DADRA AND NAGAR HAVELI': 'DADRA & NAGAR HAVELI',\n",
        "    'DAMAN AND DIU': 'DAMAN & DIU',\n",
        "    'JAMMU AND KASHMIR': 'JAMMU & KASHMIR',\n",
        "    'NCT OF DELHI': 'DELHI'\n",
        "})\n",
        "\n",
        "crime_data['NAME_1'] = crime_data['NAME_1'].replace({\n",
        "    'A & N ISLANDS': 'ANDAMAN & NICOBAR ISLANDS',\n",
        "    'D & N HAVELI': 'DADRA & NAGAR HAVELI',\n",
        "    'D&N HAVELI': 'DADRA & NAGAR HAVELI',\n",
        "    'DELHI UT': 'DELHI'\n",
        "})"
      ],
      "metadata": {
        "id": "qqz8jHdt4lna"
      },
      "execution_count": null,
      "outputs": []
    },
    {
      "cell_type": "code",
      "source": [
        "# Merge Geo + Crime data\n",
        "merged_data = geo_data.merge(crime_data, on=\"NAME_1\", how=\"left\")\n",
        "\n",
        "# Fill missing values\n",
        "merged_data.fillna(0, inplace=True)\n",
        "\n",
        "# Compute total crimes\n",
        "merged_data['Total_Crimes'] = merged_data[['Rape', 'K&A', 'DD', 'AoW', 'AoM', 'DV', 'WT']].sum(axis=1)\n",
        "\n",
        "# Compute total per crime category per state\n",
        "crime_sums = merged_data.groupby('NAME_1', as_index=False)[['Rape', 'K&A', 'DD', 'AoW', 'AoM', 'DV', 'WT', 'Total_Crimes']].sum()"
      ],
      "metadata": {
        "id": "EhxJv4jK4pBr"
      },
      "execution_count": null,
      "outputs": []
    },
    {
      "cell_type": "code",
      "source": [
        "# Save merged file for use in Dash\n",
        "crime_sums.to_csv(\"mergedcrime_data.csv\", index=False)\n",
        "\n",
        "# Optional: Download in Colab\n",
        "from google.colab import files\n",
        "files.download('mergedcrime_data.csv')"
      ],
      "metadata": {
        "colab": {
          "base_uri": "https://localhost:8080/",
          "height": 17
        },
        "id": "yrXAyg2q4wMK",
        "outputId": "2c9466e1-62a2-4f5e-bed9-eccace29c121"
      },
      "execution_count": null,
      "outputs": [
        {
          "output_type": "display_data",
          "data": {
            "text/plain": [
              "<IPython.core.display.Javascript object>"
            ],
            "application/javascript": [
              "\n",
              "    async function download(id, filename, size) {\n",
              "      if (!google.colab.kernel.accessAllowed) {\n",
              "        return;\n",
              "      }\n",
              "      const div = document.createElement('div');\n",
              "      const label = document.createElement('label');\n",
              "      label.textContent = `Downloading \"${filename}\": `;\n",
              "      div.appendChild(label);\n",
              "      const progress = document.createElement('progress');\n",
              "      progress.max = size;\n",
              "      div.appendChild(progress);\n",
              "      document.body.appendChild(div);\n",
              "\n",
              "      const buffers = [];\n",
              "      let downloaded = 0;\n",
              "\n",
              "      const channel = await google.colab.kernel.comms.open(id);\n",
              "      // Send a message to notify the kernel that we're ready.\n",
              "      channel.send({})\n",
              "\n",
              "      for await (const message of channel.messages) {\n",
              "        // Send a message to notify the kernel that we're ready.\n",
              "        channel.send({})\n",
              "        if (message.buffers) {\n",
              "          for (const buffer of message.buffers) {\n",
              "            buffers.push(buffer);\n",
              "            downloaded += buffer.byteLength;\n",
              "            progress.value = downloaded;\n",
              "          }\n",
              "        }\n",
              "      }\n",
              "      const blob = new Blob(buffers, {type: 'application/binary'});\n",
              "      const a = document.createElement('a');\n",
              "      a.href = window.URL.createObjectURL(blob);\n",
              "      a.download = filename;\n",
              "      div.appendChild(a);\n",
              "      a.click();\n",
              "      div.remove();\n",
              "    }\n",
              "  "
            ]
          },
          "metadata": {}
        },
        {
          "output_type": "display_data",
          "data": {
            "text/plain": [
              "<IPython.core.display.Javascript object>"
            ],
            "application/javascript": [
              "download(\"download_260703bf-7122-4f04-a99d-8d106bf5cf12\", \"mergedcrime_data.csv\", 2303)"
            ]
          },
          "metadata": {}
        }
      ]
    }
  ]
}